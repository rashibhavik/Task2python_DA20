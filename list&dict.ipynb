{
 "cells": [
  {
   "cell_type": "code",
   "execution_count": null,
   "id": "154a193f",
   "metadata": {},
   "outputs": [
    {
     "name": "stdout",
     "output_type": "stream",
     "text": [
      "Total Fruits: 25\n",
      "Fruits starting with 'p': ['papaya', 'pear', 'plum', 'peach', 'pineapple', 'pomegranate']\n"
     ]
    }
   ],
   "source": [
    "fruits = [\n",
    "    \"apple\", \"banana\", \"mango\", \"orange\", \"grapes\",\n",
    "    \"papaya\", \"kiwi\", \"pear\", \"plum\", \"cherry\",\n",
    "    \"peach\", \"pineapple\", \"melon\", \"guava\", \"fig\",\n",
    "    \"apricot\", \"dragonfruit\", \"lychee\", \"coconut\", \"strawberry\",\n",
    "    \"blueberry\", \"blackberry\", \"pomegranate\", \"date\", \"jackfruit\"\n",
    "]\n",
    "\n",
    "print(\"Total Fruits:\", len(fruits))   \n",
    "print(\"Fruits starting with 'p':\", [f for f in fruits if f.startswith(\"p\")])   \n"
   ]
  },
  {
   "cell_type": "code",
   "execution_count": 3,
   "id": "32ff0c90",
   "metadata": {},
   "outputs": [
    {
     "name": "stdout",
     "output_type": "stream",
     "text": [
      "Student Passed? True\n",
      "Is from Nagpur? True\n",
      "{'name': 'Rashi', 'age': 21, 'marks': 90, 'course': 'ETC', 'city': 'Nagpur', 'pass': True, 'roll_no': 101, 'email': 'Rashi@example.com', 'year': 'Final', 'hobby': 'music', 'gender': 'female', 'language': 'English', 'phone': '9876543210', 'dob': '2003-08-31', 'blood_group': 'O+', 'height': 170, 'weight': 65, 'college': 'ARC Institute', 'state': 'Maharashtra', 'country': 'India'}\n"
     ]
    }
   ],
   "source": [
    "student = {\n",
    "    \"name\": \"Rashi\",\n",
    "    \"age\": 21,\n",
    "    \"marks\": 90,\n",
    "    \"course\": \"ETC\",\n",
    "    \"city\": \"Nagpur\",\n",
    "    \"pass\": True,\n",
    "    \"roll_no\": 101,\n",
    "    \"email\": \"Rashi@example.com\",\n",
    "    \"year\": \"Final\",\n",
    "    \"hobby\": \"music\",\n",
    "    \"gender\": \"female\",\n",
    "    \"language\": \"English\",\n",
    "    \"phone\": \"9876543210\",\n",
    "    \"dob\": \"2003-08-31\",\n",
    "    \"blood_group\": \"O+\",\n",
    "    \"height\": 170,\n",
    "    \"weight\": 65,\n",
    "    \"college\": \"ARC Institute\",\n",
    "    \"state\": \"Maharashtra\",\n",
    "    \"country\": \"India\"\n",
    "}\n",
    "\n",
    "print(\"Student Passed?\", student[\"marks\"] > 40)   # condition\n",
    "print(\"Is from Nagpur?\", student[\"city\"] == \"Nagpur\")   # logical check\n",
    "print(student)"
   ]
  }
 ],
 "metadata": {
  "kernelspec": {
   "display_name": "Python 3",
   "language": "python",
   "name": "python3"
  },
  "language_info": {
   "codemirror_mode": {
    "name": "ipython",
    "version": 3
   },
   "file_extension": ".py",
   "mimetype": "text/x-python",
   "name": "python",
   "nbconvert_exporter": "python",
   "pygments_lexer": "ipython3",
   "version": "3.12.1"
  }
 },
 "nbformat": 4,
 "nbformat_minor": 5
}
